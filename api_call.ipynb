{
 "cells": [
  {
   "cell_type": "code",
   "execution_count": 5,
   "metadata": {},
   "outputs": [
    {
     "name": "stdout",
     "output_type": "stream",
     "text": [
      "CSV file 'data.csv' created successfully and name 'Selena Gomez' added.\n"
     ]
    }
   ],
   "source": [
    "import csv\n",
    "\n",
    "# FILEPATH: /Users/shreyasubramanya/Hacklytics-2024/api_call.ipynb\n",
    "filename = 'data.csv'\n",
    "\n",
    "# Create an empty CSV file\n",
    "with open(filename, 'w', newline='') as file:\n",
    "    pass\n",
    "\n",
    "# Take name as input\n",
    "name = 'Selena Gomez'\n",
    "\n",
    "# Open the file in append mode and create a CSV writer object\n",
    "with open(filename, 'a', newline='') as file:\n",
    "    writer = csv.writer(file)\n",
    "\n",
    "    # Write the name to the CSV file\n",
    "    writer.writerow([name])\n",
    " \n",
    "print(f\"CSV file '{filename}' created successfully and name '{name}' added.\")\n"
   ]
  },
  {
   "cell_type": "code",
   "execution_count": 7,
   "metadata": {},
   "outputs": [
    {
     "ename": "ModuleNotFoundError",
     "evalue": "No module named 'instagram_private_api'",
     "output_type": "error",
     "traceback": [
      "\u001b[0;31m---------------------------------------------------------------------------\u001b[0m",
      "\u001b[0;31mModuleNotFoundError\u001b[0m                       Traceback (most recent call last)",
      "\u001b[1;32m/Users/shreyasubramanya/Hacklytics-2024/api_call.ipynb Cell 2\u001b[0m line \u001b[0;36m<cell line: 1>\u001b[0;34m()\u001b[0m\n\u001b[0;32m----> <a href='vscode-notebook-cell:/Users/shreyasubramanya/Hacklytics-2024/api_call.ipynb#W1sZmlsZQ%3D%3D?line=0'>1</a>\u001b[0m \u001b[39mimport\u001b[39;00m \u001b[39minstagram_private_api\u001b[39;00m\n\u001b[1;32m      <a href='vscode-notebook-cell:/Users/shreyasubramanya/Hacklytics-2024/api_call.ipynb#W1sZmlsZQ%3D%3D?line=1'>2</a>\u001b[0m \u001b[39mfrom\u001b[39;00m \u001b[39minstagram_private_api\u001b[39;00m \u001b[39mimport\u001b[39;00m Client\n\u001b[1;32m      <a href='vscode-notebook-cell:/Users/shreyasubramanya/Hacklytics-2024/api_call.ipynb#W1sZmlsZQ%3D%3D?line=3'>4</a>\u001b[0m \u001b[39m# Create an instance of the Instagram API\u001b[39;00m\n",
      "\u001b[0;31mModuleNotFoundError\u001b[0m: No module named 'instagram_private_api'"
     ]
    }
   ],
   "source": [
    "import instagram_private_api\n",
    "from instagram_private_api import Client\n",
    "\n",
    "# Create an instance of the Instagram API\n",
    "api = Client()\n",
    "\n",
    "# Specify the username of the public user\n",
    "username = 'selenagomez'\n",
    "\n",
    "# Get the user ID of the public user\n",
    "user_id = api.username_info(username)['user']['pk']\n",
    "\n",
    "# Get all activity for the public user\n",
    "activity = api.user_feed(user_id)\n",
    "\n",
    "# Print the activity\n",
    "for item in activity['items']:\n",
    "    print(item)\n"
   ]
  }
 ],
 "metadata": {
  "kernelspec": {
   "display_name": "Python 3",
   "language": "python",
   "name": "python3"
  },
  "language_info": {
   "codemirror_mode": {
    "name": "ipython",
    "version": 3
   },
   "file_extension": ".py",
   "mimetype": "text/x-python",
   "name": "python",
   "nbconvert_exporter": "python",
   "pygments_lexer": "ipython3",
   "version": "3.10.4"
  }
 },
 "nbformat": 4,
 "nbformat_minor": 2
}
